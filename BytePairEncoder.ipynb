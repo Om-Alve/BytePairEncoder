{
 "cells": [
  {
   "cell_type": "code",
   "execution_count": 147,
   "id": "4825037c-7dc7-48c7-b5df-44e51add9fa8",
   "metadata": {
    "tags": []
   },
   "outputs": [],
   "source": [
    "text = \"\"\"\n",
    "Two roads diverged in a yellow wood,\n",
    "And sorry I could not travel both\n",
    "And be one traveler, long I stood\n",
    "And looked down one as far as I could\n",
    "To where it bent in the undergrowth;\n",
    "\n",
    "Then took the other, as just as fair,\n",
    "And having perhaps the better claim,\n",
    "Because it was grassy and wanted wear;\n",
    "Though as for that the passing there\n",
    "Had worn them really about the same,\n",
    "\n",
    "And both that morning equally lay\n",
    "In leaves no step had trodden black.\n",
    "Oh, I kept the first for another day!\n",
    "Yet knowing how way leads on to way,\n",
    "I doubted if I should ever come back.\n",
    "\n",
    "I shall be telling this with a sigh\n",
    "Somewhere ages and ages hence:\n",
    "Two roads diverged in a wood, and I—\n",
    "I took the one less traveled by,\n",
    "And that has made all the difference.\n",
    "\"\"\""
   ]
  },
  {
   "cell_type": "code",
   "execution_count": 148,
   "id": "5c4096b9-bd5f-418a-ae74-8f03e77c3e05",
   "metadata": {
    "tags": []
   },
   "outputs": [],
   "source": [
    "class BytePairEncoder():\n",
    "    def __init__(self,vocab_size):\n",
    "        self.vocab_size = vocab_size\n",
    "        self.merges = {}\n",
    "        self.vocab = {}\n",
    "    def get_pair_counts(self,tokens):\n",
    "        counts = {}\n",
    "        for x,y in zip(tokens,tokens[1:]):\n",
    "            counts[(x,y)] = counts.get((x,y),0) + 1\n",
    "        return counts\n",
    "    def fit(self,text):\n",
    "        tokens = list(map(int,text.encode('utf-8')))\n",
    "        ids = list(tokens)\n",
    "        for i in range(self.vocab_size - 255):\n",
    "            tokens = self.get_pair_counts(ids)\n",
    "            pair = max(tokens,key=tokens.get)\n",
    "            idx = 256 + i\n",
    "            self.merges[pair] = idx\n",
    "            enc = []\n",
    "            i=0\n",
    "            while i <len(ids):\n",
    "                if i < len(ids)-1 and (ids[i] == pair[0] and ids[i+1] == pair[1]):\n",
    "                    enc.append(idx)\n",
    "                    i+=2\n",
    "                else:\n",
    "                    enc.append(ids[i])\n",
    "                    i+=1\n",
    "            idx+=1\n",
    "            ids = enc\n",
    "    def encode(self,x):\n",
    "        x = list(x.encode('utf-8'))\n",
    "        ids = list(x)\n",
    "        for (x,y),idx in merges.items():\n",
    "            i = 0\n",
    "            enc = []\n",
    "            while i < len(ids):\n",
    "                if i < len(ids) - 1 and ids[i] == x and ids[i+1] == y:\n",
    "                    enc.append(idx)\n",
    "                    i+=2\n",
    "                else:\n",
    "                    enc.append(ids[i])\n",
    "                    i+=1\n",
    "            i = enc\n",
    "        return ids\n",
    "    \n",
    "    def decode(self,ids):\n",
    "        tokens = b\"\".join([vocab[i] for i in ids])\n",
    "        return tokens.decode('utf-8',errors='replace')"
   ]
  },
  {
   "cell_type": "code",
   "execution_count": 149,
   "id": "b06a32b7-34d0-45b7-94f3-0b2032bb7090",
   "metadata": {
    "tags": []
   },
   "outputs": [],
   "source": [
    "enc = BytePairEncoder(vocab_size=300)"
   ]
  },
  {
   "cell_type": "code",
   "execution_count": 150,
   "id": "f9e24d92-aaa2-4a48-b911-80bb62417b43",
   "metadata": {
    "tags": []
   },
   "outputs": [],
   "source": [
    "enc.fit(text)"
   ]
  },
  {
   "cell_type": "code",
   "execution_count": 151,
   "id": "19628797-6b12-40e9-ae57-8e30b08adaa3",
   "metadata": {
    "tags": []
   },
   "outputs": [
    {
     "data": {
      "text/plain": [
       "[72, 101, 108, 108, 111, 32, 119, 111, 114, 108, 100]"
      ]
     },
     "execution_count": 151,
     "metadata": {},
     "output_type": "execute_result"
    }
   ],
   "source": [
    "enc.encode(\"Hello world\")"
   ]
  },
  {
   "cell_type": "code",
   "execution_count": 152,
   "id": "6112ed2f-664a-43db-ac68-28e9152402ac",
   "metadata": {
    "tags": []
   },
   "outputs": [
    {
     "data": {
      "text/plain": [
       "'Hello world'"
      ]
     },
     "execution_count": 152,
     "metadata": {},
     "output_type": "execute_result"
    }
   ],
   "source": [
    "enc.decode([72, 101, 108, 108, 111, 32, 119, 111, 114, 108, 100])"
   ]
  }
 ],
 "metadata": {
  "kernelspec": {
   "display_name": "Python 3 (ipykernel)",
   "language": "python",
   "name": "python3"
  },
  "language_info": {
   "codemirror_mode": {
    "name": "ipython",
    "version": 3
   },
   "file_extension": ".py",
   "mimetype": "text/x-python",
   "name": "python",
   "nbconvert_exporter": "python",
   "pygments_lexer": "ipython3",
   "version": "3.11.5"
  }
 },
 "nbformat": 4,
 "nbformat_minor": 5
}
